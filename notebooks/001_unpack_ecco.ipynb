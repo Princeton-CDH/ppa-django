{
 "cells": [
  {
   "cell_type": "markdown",
   "id": "f0d45b6e-3f7c-426d-9501-a385611735f4",
   "metadata": {},
   "source": [
    "# Unpacking ECCO"
   ]
  },
  {
   "cell_type": "markdown",
   "id": "a9a40919-99af-4bfc-a8d1-7b8a4026db4e",
   "metadata": {},
   "source": [
    "## Rsyncing"
   ]
  },
  {
   "cell_type": "markdown",
   "id": "be568b5e-d135-4d94-a4bf-3c9028ed0b12",
   "metadata": {},
   "source": [
    "## Preprocessing"
   ]
  },
  {
   "cell_type": "code",
   "execution_count": 3,
   "id": "df14162a-d44a-4fa9-b32b-2bc39318e678",
   "metadata": {},
   "outputs": [
    {
     "data": {
      "text/plain": [
       "'/Users/ryan/data/ecco/ECCOII'"
      ]
     },
     "execution_count": 3,
     "metadata": {},
     "output_type": "execute_result"
    }
   ],
   "source": [
    "import os\n",
    "path_root_eccoII = os.path.expanduser('~/data/ecco/ECCOII')\n",
    "path_root_eccoII"
   ]
  },
  {
   "cell_type": "code",
   "execution_count": 4,
   "id": "649a5419-bdb6-4dc0-9318-ae7dde464c39",
   "metadata": {},
   "outputs": [
    {
     "ename": "FileNotFoundError",
     "evalue": "[Errno 2] No such file or directory: '/Users/ryan/data/ecco/ECCOII'",
     "output_type": "error",
     "traceback": [
      "\u001b[0;31m---------------------------------------------------------------------------\u001b[0m",
      "\u001b[0;31mFileNotFoundError\u001b[0m                         Traceback (most recent call last)",
      "Cell \u001b[0;32mIn[4], line 1\u001b[0m\n\u001b[0;32m----> 1\u001b[0m \u001b[43mos\u001b[49m\u001b[38;5;241;43m.\u001b[39;49m\u001b[43mlistdir\u001b[49m\u001b[43m(\u001b[49m\u001b[43mpath_root_eccoII\u001b[49m\u001b[43m)\u001b[49m\n",
      "\u001b[0;31mFileNotFoundError\u001b[0m: [Errno 2] No such file or directory: '/Users/ryan/data/ecco/ECCOII'"
     ]
    }
   ],
   "source": [
    "os.listdir(path_root_eccoII)"
   ]
  },
  {
   "cell_type": "code",
   "execution_count": null,
   "id": "ae975111-d6d4-42d8-afe5-42214873e800",
   "metadata": {},
   "outputs": [],
   "source": []
  },
  {
   "cell_type": "code",
   "execution_count": null,
   "id": "8cf4efc1-e070-4a09-85a3-cce074d82d2c",
   "metadata": {},
   "outputs": [],
   "source": []
  }
 ],
 "metadata": {
  "kernelspec": {
   "display_name": "Python 3 (ipykernel)",
   "language": "python",
   "name": "python3"
  },
  "language_info": {
   "codemirror_mode": {
    "name": "ipython",
    "version": 3
   },
   "file_extension": ".py",
   "mimetype": "text/x-python",
   "name": "python",
   "nbconvert_exporter": "python",
   "pygments_lexer": "ipython3",
   "version": "3.9.13"
  }
 },
 "nbformat": 4,
 "nbformat_minor": 5
}
