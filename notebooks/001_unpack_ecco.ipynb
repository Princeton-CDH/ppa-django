{
 "cells": [
  {
   "cell_type": "markdown",
   "id": "f0d45b6e-3f7c-426d-9501-a385611735f4",
   "metadata": {},
   "source": [
    "# Unpacking ECCO"
   ]
  },
  {
   "cell_type": "markdown",
   "id": "a9a40919-99af-4bfc-a8d1-7b8a4026db4e",
   "metadata": {},
   "source": [
    "## Rsyncing"
   ]
  },
  {
   "cell_type": "markdown",
   "id": "be568b5e-d135-4d94-a4bf-3c9028ed0b12",
   "metadata": {},
   "source": [
    "## Preprocessing"
   ]
  },
  {
   "cell_type": "code",
   "execution_count": 1,
   "id": "df14162a-d44a-4fa9-b32b-2bc39318e678",
   "metadata": {},
   "outputs": [
    {
     "data": {
      "text/plain": [
       "'/Users/ryanheuser/data/ecco/ECCOII'"
      ]
     },
     "execution_count": 1,
     "metadata": {},
     "output_type": "execute_result"
    }
   ],
   "source": [
    "import os\n",
    "path_root_eccoII = os.path.expanduser('~/data/ecco/ECCOII')\n",
    "path_root_eccoII"
   ]
  },
  {
   "cell_type": "code",
   "execution_count": 3,
   "id": "649a5419-bdb6-4dc0-9318-ae7dde464c39",
   "metadata": {},
   "outputs": [
    {
     "data": {
      "text/plain": [
       "['ECCOII_HistoryandGeography',\n",
       " 'ECCOII_SciTechMed.xlsx',\n",
       " 'ECCOII_ReligionandPhilosophy.xlsx',\n",
       " 'ECCOII_LiteratureandLanguage.xlsx',\n",
       " 'ECCOII_GeneralReference',\n",
       " 'ECCOII_HistoryandGeography.xlsx',\n",
       " 'ECCOII_SSAndFineArts',\n",
       " 'ECCOII_ReligionandPhilosophy',\n",
       " 'ECCOII_SSAndFineArts.xlsx',\n",
       " 'ECCOII_LiteratureandLanguage',\n",
       " 'ECCOII_Law',\n",
       " 'ECCOII_Law.xlsx',\n",
       " 'ECCOII_GeneralReference.xlsx',\n",
       " 'ECCOII_SciTechMed']"
      ]
     },
     "execution_count": 3,
     "metadata": {},
     "output_type": "execute_result"
    }
   ],
   "source": [
    "files_root_eccoII = os.listdir(path_root_eccoII)\n",
    "files_root_eccoII"
   ]
  },
  {
   "cell_type": "markdown",
   "id": "79222136-9ae0-4c14-9b6a-25636f5dde70",
   "metadata": {},
   "source": [
    "### Metadata"
   ]
  },
  {
   "cell_type": "code",
   "execution_count": 5,
   "id": "ca4e37e1-1b0a-4afa-a114-355ca75da2c7",
   "metadata": {},
   "outputs": [
    {
     "data": {
      "text/plain": [
       "['/Users/ryanheuser/data/ecco/ECCOII/ECCOII_SciTechMed.xlsx',\n",
       " '/Users/ryanheuser/data/ecco/ECCOII/ECCOII_ReligionandPhilosophy.xlsx',\n",
       " '/Users/ryanheuser/data/ecco/ECCOII/ECCOII_LiteratureandLanguage.xlsx',\n",
       " '/Users/ryanheuser/data/ecco/ECCOII/ECCOII_HistoryandGeography.xlsx',\n",
       " '/Users/ryanheuser/data/ecco/ECCOII/ECCOII_SSAndFineArts.xlsx',\n",
       " '/Users/ryanheuser/data/ecco/ECCOII/ECCOII_Law.xlsx',\n",
       " '/Users/ryanheuser/data/ecco/ECCOII/ECCOII_GeneralReference.xlsx']"
      ]
     },
     "execution_count": 5,
     "metadata": {},
     "output_type": "execute_result"
    }
   ],
   "source": [
    "excel_file_paths = [os.path.join(path_root_eccoII,fn) for fn in files_root_eccoII if fn.endswith('.xlsx')]\n",
    "excel_file_paths"
   ]
  },
  {
   "cell_type": "code",
   "execution_count": 6,
   "id": "0c949c7a-04a1-47fb-8bfa-5527bd90f743",
   "metadata": {},
   "outputs": [
    {
     "data": {
      "text/html": [
       "<div>\n",
       "<style scoped>\n",
       "    .dataframe tbody tr th:only-of-type {\n",
       "        vertical-align: middle;\n",
       "    }\n",
       "\n",
       "    .dataframe tbody tr th {\n",
       "        vertical-align: top;\n",
       "    }\n",
       "\n",
       "    .dataframe thead th {\n",
       "        text-align: right;\n",
       "    }\n",
       "</style>\n",
       "<table border=\"1\" class=\"dataframe\">\n",
       "  <thead>\n",
       "    <tr style=\"text-align: right;\">\n",
       "      <th></th>\n",
       "      <th>AuthorByline</th>\n",
       "      <th>Title</th>\n",
       "      <th>Edition</th>\n",
       "      <th>CurrentVolume</th>\n",
       "      <th>Imprint</th>\n",
       "      <th>Collation</th>\n",
       "      <th>NumberOfPages</th>\n",
       "      <th>ImageLocation</th>\n",
       "      <th>DataLocation</th>\n",
       "      <th>Filename</th>\n",
       "    </tr>\n",
       "  </thead>\n",
       "  <tbody>\n",
       "    <tr>\n",
       "      <th>0</th>\n",
       "      <td>NaN</td>\n",
       "      <td>The complete fortune teller: or, An infallible...</td>\n",
       "      <td>NaN</td>\n",
       "      <td>NaN</td>\n",
       "      <td>New-York : [s.n.] Printed for the booksellers,...</td>\n",
       "      <td>128p. ; 16°</td>\n",
       "      <td>116</td>\n",
       "      <td>\\ECCOII_SciTechMed\\Images\\MONOGRAPHS\\ECCOF0001...</td>\n",
       "      <td>\\ECCOII_SciTechMed\\XML\\ECCOF0001-C00027\\MONOGR...</td>\n",
       "      <td>1304900100_DocMetadata.xml</td>\n",
       "    </tr>\n",
       "    <tr>\n",
       "      <th>1</th>\n",
       "      <td>Gibson, Robert; Crukshank, Joseph; Poupard, James</td>\n",
       "      <td>A treatise of practical surveying; which is de...</td>\n",
       "      <td>The fifth edition.</td>\n",
       "      <td>NaN</td>\n",
       "      <td>Philadelphia : Printed by Joseph Crukshank, in...</td>\n",
       "      <td>viii, 272, [1], 90, [1] p., 12folded leaves of...</td>\n",
       "      <td>414</td>\n",
       "      <td>\\ECCOII_SciTechMed\\Images\\MONOGRAPHS\\ECCOF0001...</td>\n",
       "      <td>\\ECCOII_SciTechMed\\XML\\ECCOF0001-C00027\\MONOGR...</td>\n",
       "      <td>1304900200_DocMetadata.xml</td>\n",
       "    </tr>\n",
       "    <tr>\n",
       "      <th>2</th>\n",
       "      <td>Perrault, Claude</td>\n",
       "      <td>Memoirs for a natural history of animals, cont...</td>\n",
       "      <td>NaN</td>\n",
       "      <td>NaN</td>\n",
       "      <td>London : Printed for John Clarke at the Bible ...</td>\n",
       "      <td>[16],3-267,[13],40p.,plates ; 2°</td>\n",
       "      <td>405</td>\n",
       "      <td>\\ECCOII_SciTechMed\\Images\\MONOGRAPHS\\ECCOF0001...</td>\n",
       "      <td>\\ECCOII_SciTechMed\\XML\\ECCOF0001-C00027\\MONOGR...</td>\n",
       "      <td>1304900300_DocMetadata.xml</td>\n",
       "    </tr>\n",
       "    <tr>\n",
       "      <th>3</th>\n",
       "      <td>Dillenius, Johann Jakob</td>\n",
       "      <td>Historia Muscorum: a general history of land a...</td>\n",
       "      <td>NaN</td>\n",
       "      <td>NaN</td>\n",
       "      <td>London : Printed for J. Millan, opposite the A...</td>\n",
       "      <td>[2],13,[1],10p.,LXXXVplates ; 4°</td>\n",
       "      <td>195</td>\n",
       "      <td>\\ECCOII_SciTechMed\\Images\\MONOGRAPHS\\ECCOF0001...</td>\n",
       "      <td>\\ECCOII_SciTechMed\\XML\\ECCOF0001-C00027\\MONOGR...</td>\n",
       "      <td>1304900400_DocMetadata.xml</td>\n",
       "    </tr>\n",
       "    <tr>\n",
       "      <th>4</th>\n",
       "      <td>Walker, James, M.D.</td>\n",
       "      <td>Disquisitio medica, inauguralis, de glandularu...</td>\n",
       "      <td>NaN</td>\n",
       "      <td>NaN</td>\n",
       "      <td>Edinburgi : Apud J. Cochran &amp; Socios, MDCCXLII...</td>\n",
       "      <td>[4],22p. ; 4°</td>\n",
       "      <td>26</td>\n",
       "      <td>\\ECCOII_SciTechMed\\Images\\MONOGRAPHS\\ECCOF0001...</td>\n",
       "      <td>\\ECCOII_SciTechMed\\XML\\ECCOF0001-C00027\\MONOGR...</td>\n",
       "      <td>1305000100_DocMetadata.xml</td>\n",
       "    </tr>\n",
       "    <tr>\n",
       "      <th>...</th>\n",
       "      <td>...</td>\n",
       "      <td>...</td>\n",
       "      <td>...</td>\n",
       "      <td>...</td>\n",
       "      <td>...</td>\n",
       "      <td>...</td>\n",
       "      <td>...</td>\n",
       "      <td>...</td>\n",
       "      <td>...</td>\n",
       "      <td>...</td>\n",
       "    </tr>\n",
       "    <tr>\n",
       "      <th>3211</th>\n",
       "      <td>Cotes, Roger</td>\n",
       "      <td>Harmonia mensurarum, sive analysis &amp; synthesis...</td>\n",
       "      <td>NaN</td>\n",
       "      <td>NaN</td>\n",
       "      <td>Cantabrigiæ, 1722.</td>\n",
       "      <td>[20],249,[3],125,[1]p.,table : ill. ; 4°</td>\n",
       "      <td>395</td>\n",
       "      <td>\\ECCOII_SciTechMed\\Images\\MONOGRAPHS\\ECCOF0001...</td>\n",
       "      <td>\\ECCOII_SciTechMed\\XML\\ECCOF0001-C00027\\MONOGR...</td>\n",
       "      <td>1741000100_DocMetadata.xml</td>\n",
       "    </tr>\n",
       "    <tr>\n",
       "      <th>3212</th>\n",
       "      <td>Huxham, John</td>\n",
       "      <td>Observationum de aëre et morbis epidemicis vol...</td>\n",
       "      <td>NaN</td>\n",
       "      <td>NaN</td>\n",
       "      <td>Londini : impensis Joannis Hinton; &amp; ex offici...</td>\n",
       "      <td>[2],xix,[1],208p. ; 8°</td>\n",
       "      <td>230</td>\n",
       "      <td>\\ECCOII_SciTechMed\\Images\\MONOGRAPHS\\ECCOF0001...</td>\n",
       "      <td>\\ECCOII_SciTechMed\\XML\\ECCOF0001-C00027\\MONOGR...</td>\n",
       "      <td>1741000200_DocMetadata.xml</td>\n",
       "    </tr>\n",
       "    <tr>\n",
       "      <th>3213</th>\n",
       "      <td>Physician of Bath</td>\n",
       "      <td>A safe conduct through the territories of the ...</td>\n",
       "      <td>NaN</td>\n",
       "      <td>NaN</td>\n",
       "      <td>London : printed, pro bono publico, 1795.</td>\n",
       "      <td>98p. ; 12°</td>\n",
       "      <td>96</td>\n",
       "      <td>\\ECCOII_SciTechMed\\Images\\MONOGRAPHS\\ECCOF0001...</td>\n",
       "      <td>\\ECCOII_SciTechMed\\XML\\ECCOF0001-C00027\\MONOGR...</td>\n",
       "      <td>1741000300_DocMetadata.xml</td>\n",
       "    </tr>\n",
       "    <tr>\n",
       "      <th>3214</th>\n",
       "      <td>Edwards, George</td>\n",
       "      <td>A natural history of uncommon birds, and of so...</td>\n",
       "      <td>NaN</td>\n",
       "      <td>NaN</td>\n",
       "      <td>London : printed for the author, [1751].</td>\n",
       "      <td>[4];xxiv,52;viii,53-128;[4],106-157;[8],158-24...</td>\n",
       "      <td>524</td>\n",
       "      <td>\\ECCOII_SciTechMed\\Images\\MONOGRAPHS\\ECCOF0001...</td>\n",
       "      <td>\\ECCOII_SciTechMed\\XML\\ECCOF0001-C00027\\MONOGR...</td>\n",
       "      <td>1741000400_DocMetadata.xml</td>\n",
       "    </tr>\n",
       "    <tr>\n",
       "      <th>3215</th>\n",
       "      <td>Swift, Jonathan</td>\n",
       "      <td>The right of precedence between physicians and...</td>\n",
       "      <td>The second edition.</td>\n",
       "      <td>NaN</td>\n",
       "      <td>[London] : Printed at Dublin in the year 1720;...</td>\n",
       "      <td>32p. ; 8°</td>\n",
       "      <td>29</td>\n",
       "      <td>\\ECCOII_SciTechMed\\Images\\MONOGRAPHS\\ECCOF0001...</td>\n",
       "      <td>\\ECCOII_SciTechMed\\XML\\ECCOF0001-C00027\\MONOGR...</td>\n",
       "      <td>1782800100_DocMetadata.xml</td>\n",
       "    </tr>\n",
       "  </tbody>\n",
       "</table>\n",
       "<p>3216 rows × 10 columns</p>\n",
       "</div>"
      ],
      "text/plain": [
       "                                           AuthorByline  \\\n",
       "0                                                   NaN   \n",
       "1     Gibson, Robert; Crukshank, Joseph; Poupard, James   \n",
       "2                                      Perrault, Claude   \n",
       "3                               Dillenius, Johann Jakob   \n",
       "4                                   Walker, James, M.D.   \n",
       "...                                                 ...   \n",
       "3211                                       Cotes, Roger   \n",
       "3212                                       Huxham, John   \n",
       "3213                                  Physician of Bath   \n",
       "3214                                    Edwards, George   \n",
       "3215                                    Swift, Jonathan   \n",
       "\n",
       "                                                  Title              Edition  \\\n",
       "0     The complete fortune teller: or, An infallible...                  NaN   \n",
       "1     A treatise of practical surveying; which is de...   The fifth edition.   \n",
       "2     Memoirs for a natural history of animals, cont...                  NaN   \n",
       "3     Historia Muscorum: a general history of land a...                  NaN   \n",
       "4     Disquisitio medica, inauguralis, de glandularu...                  NaN   \n",
       "...                                                 ...                  ...   \n",
       "3211  Harmonia mensurarum, sive analysis & synthesis...                  NaN   \n",
       "3212  Observationum de aëre et morbis epidemicis vol...                  NaN   \n",
       "3213  A safe conduct through the territories of the ...                  NaN   \n",
       "3214  A natural history of uncommon birds, and of so...                  NaN   \n",
       "3215  The right of precedence between physicians and...  The second edition.   \n",
       "\n",
       "     CurrentVolume                                            Imprint  \\\n",
       "0              NaN  New-York : [s.n.] Printed for the booksellers,...   \n",
       "1              NaN  Philadelphia : Printed by Joseph Crukshank, in...   \n",
       "2              NaN  London : Printed for John Clarke at the Bible ...   \n",
       "3              NaN  London : Printed for J. Millan, opposite the A...   \n",
       "4              NaN  Edinburgi : Apud J. Cochran & Socios, MDCCXLII...   \n",
       "...            ...                                                ...   \n",
       "3211           NaN                                 Cantabrigiæ, 1722.   \n",
       "3212           NaN  Londini : impensis Joannis Hinton; & ex offici...   \n",
       "3213           NaN          London : printed, pro bono publico, 1795.   \n",
       "3214           NaN           London : printed for the author, [1751].   \n",
       "3215           NaN  [London] : Printed at Dublin in the year 1720;...   \n",
       "\n",
       "                                              Collation  NumberOfPages  \\\n",
       "0                                           128p. ; 16°            116   \n",
       "1     viii, 272, [1], 90, [1] p., 12folded leaves of...            414   \n",
       "2                      [16],3-267,[13],40p.,plates ; 2°            405   \n",
       "3                      [2],13,[1],10p.,LXXXVplates ; 4°            195   \n",
       "4                                         [4],22p. ; 4°             26   \n",
       "...                                                 ...            ...   \n",
       "3211           [20],249,[3],125,[1]p.,table : ill. ; 4°            395   \n",
       "3212                             [2],xix,[1],208p. ; 8°            230   \n",
       "3213                                         98p. ; 12°             96   \n",
       "3214  [4];xxiv,52;viii,53-128;[4],106-157;[8],158-24...            524   \n",
       "3215                                          32p. ; 8°             29   \n",
       "\n",
       "                                          ImageLocation  \\\n",
       "0     \\ECCOII_SciTechMed\\Images\\MONOGRAPHS\\ECCOF0001...   \n",
       "1     \\ECCOII_SciTechMed\\Images\\MONOGRAPHS\\ECCOF0001...   \n",
       "2     \\ECCOII_SciTechMed\\Images\\MONOGRAPHS\\ECCOF0001...   \n",
       "3     \\ECCOII_SciTechMed\\Images\\MONOGRAPHS\\ECCOF0001...   \n",
       "4     \\ECCOII_SciTechMed\\Images\\MONOGRAPHS\\ECCOF0001...   \n",
       "...                                                 ...   \n",
       "3211  \\ECCOII_SciTechMed\\Images\\MONOGRAPHS\\ECCOF0001...   \n",
       "3212  \\ECCOII_SciTechMed\\Images\\MONOGRAPHS\\ECCOF0001...   \n",
       "3213  \\ECCOII_SciTechMed\\Images\\MONOGRAPHS\\ECCOF0001...   \n",
       "3214  \\ECCOII_SciTechMed\\Images\\MONOGRAPHS\\ECCOF0001...   \n",
       "3215  \\ECCOII_SciTechMed\\Images\\MONOGRAPHS\\ECCOF0001...   \n",
       "\n",
       "                                           DataLocation  \\\n",
       "0     \\ECCOII_SciTechMed\\XML\\ECCOF0001-C00027\\MONOGR...   \n",
       "1     \\ECCOII_SciTechMed\\XML\\ECCOF0001-C00027\\MONOGR...   \n",
       "2     \\ECCOII_SciTechMed\\XML\\ECCOF0001-C00027\\MONOGR...   \n",
       "3     \\ECCOII_SciTechMed\\XML\\ECCOF0001-C00027\\MONOGR...   \n",
       "4     \\ECCOII_SciTechMed\\XML\\ECCOF0001-C00027\\MONOGR...   \n",
       "...                                                 ...   \n",
       "3211  \\ECCOII_SciTechMed\\XML\\ECCOF0001-C00027\\MONOGR...   \n",
       "3212  \\ECCOII_SciTechMed\\XML\\ECCOF0001-C00027\\MONOGR...   \n",
       "3213  \\ECCOII_SciTechMed\\XML\\ECCOF0001-C00027\\MONOGR...   \n",
       "3214  \\ECCOII_SciTechMed\\XML\\ECCOF0001-C00027\\MONOGR...   \n",
       "3215  \\ECCOII_SciTechMed\\XML\\ECCOF0001-C00027\\MONOGR...   \n",
       "\n",
       "                        Filename  \n",
       "0     1304900100_DocMetadata.xml  \n",
       "1     1304900200_DocMetadata.xml  \n",
       "2     1304900300_DocMetadata.xml  \n",
       "3     1304900400_DocMetadata.xml  \n",
       "4     1305000100_DocMetadata.xml  \n",
       "...                          ...  \n",
       "3211  1741000100_DocMetadata.xml  \n",
       "3212  1741000200_DocMetadata.xml  \n",
       "3213  1741000300_DocMetadata.xml  \n",
       "3214  1741000400_DocMetadata.xml  \n",
       "3215  1782800100_DocMetadata.xml  \n",
       "\n",
       "[3216 rows x 10 columns]"
      ]
     },
     "execution_count": 6,
     "metadata": {},
     "output_type": "execute_result"
    }
   ],
   "source": [
    "import pandas as pd\n",
    "df=pd.read_excel(excel_file_paths[0])\n",
    "df"
   ]
  },
  {
   "cell_type": "markdown",
   "id": "5cd1441d-2070-4045-b46c-ea5d2c13da31",
   "metadata": {},
   "source": [
    "### Data"
   ]
  },
  {
   "cell_type": "code",
   "execution_count": 15,
   "id": "b03789e3-2d64-4f5c-94ac-acf463c3f508",
   "metadata": {},
   "outputs": [
    {
     "data": {
      "text/plain": [
       "105372"
      ]
     },
     "execution_count": 15,
     "metadata": {},
     "output_type": "execute_result"
    }
   ],
   "source": [
    "# Get all XML files\n",
    "all_xml_paths = [\n",
    "    os.path.join(root,fn)\n",
    "    for root,dirs,fns in os.walk(path_root_eccoII)\n",
    "    for fn in fns\n",
    "    if fn.endswith('.xml')\n",
    "]\n",
    "len(all_xml_paths)"
   ]
  },
  {
   "cell_type": "code",
   "execution_count": 16,
   "id": "41732f38-456d-4155-aea3-7f52e638683d",
   "metadata": {},
   "outputs": [
    {
     "data": {
      "text/plain": [
       "52686"
      ]
     },
     "execution_count": 16,
     "metadata": {},
     "output_type": "execute_result"
    }
   ],
   "source": [
    "# Divide this by 2 to get number of texts (approx), since 2 files per text\n",
    "len(all_xml_paths) // 2"
   ]
  },
  {
   "cell_type": "code",
   "execution_count": null,
   "id": "a618ffe2-de1f-4a93-86d7-616c8bb95734",
   "metadata": {},
   "outputs": [],
   "source": []
  }
 ],
 "metadata": {
  "kernelspec": {
   "display_name": "Python 3 (ipykernel)",
   "language": "python",
   "name": "python3"
  },
  "language_info": {
   "codemirror_mode": {
    "name": "ipython",
    "version": 3
   },
   "file_extension": ".py",
   "mimetype": "text/x-python",
   "name": "python",
   "nbconvert_exporter": "python",
   "pygments_lexer": "ipython3",
   "version": "3.9.13"
  }
 },
 "nbformat": 4,
 "nbformat_minor": 5
}
