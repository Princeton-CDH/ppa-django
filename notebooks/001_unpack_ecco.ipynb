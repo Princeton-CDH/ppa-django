{
 "cells": [
  {
   "cell_type": "markdown",
   "id": "f0d45b6e-3f7c-426d-9501-a385611735f4",
   "metadata": {},
   "source": [
    "# Unpacking ECCO"
   ]
  },
  {
   "cell_type": "code",
   "execution_count": 1,
   "id": "06253dd5-f471-4129-99ff-5ba03429eb17",
   "metadata": {},
   "outputs": [
    {
     "name": "stdout",
     "output_type": "stream",
     "text": [
      "\u001b[33mWARNING: You are using pip version 22.0.4; however, version 23.2.1 is available.\n",
      "You should consider upgrading via the '/Users/ryanheuser/github/ppa-django/venv/bin/python -m pip install --upgrade pip' command.\u001b[0m\u001b[33m\n",
      "\u001b[0m"
     ]
    }
   ],
   "source": [
    "!pip install -qU -r requirements.txt"
   ]
  },
  {
   "cell_type": "markdown",
   "id": "a9a40919-99af-4bfc-a8d1-7b8a4026db4e",
   "metadata": {},
   "source": [
    "## Rsyncing"
   ]
  },
  {
   "cell_type": "markdown",
   "id": "be568b5e-d135-4d94-a4bf-3c9028ed0b12",
   "metadata": {},
   "source": [
    "## Preprocessing"
   ]
  },
  {
   "cell_type": "code",
   "execution_count": 2,
   "id": "df14162a-d44a-4fa9-b32b-2bc39318e678",
   "metadata": {},
   "outputs": [
    {
     "data": {
      "text/plain": [
       "'/Users/ryanheuser/data/ecco/ECCOII'"
      ]
     },
     "execution_count": 2,
     "metadata": {},
     "output_type": "execute_result"
    }
   ],
   "source": [
    "import os\n",
    "path_root_eccoII = os.path.expanduser('~/data/ecco/ECCOII')\n",
    "path_root_eccoII"
   ]
  },
  {
   "cell_type": "code",
   "execution_count": 3,
   "id": "4341c622-cb15-4701-beb4-a2f0a7bd50e9",
   "metadata": {},
   "outputs": [],
   "source": [
    "path_ecco_pages_cache = os.path.expanduser('~/data/ecco/ecco_pages.sqlitedict')"
   ]
  },
  {
   "cell_type": "code",
   "execution_count": 4,
   "id": "649a5419-bdb6-4dc0-9318-ae7dde464c39",
   "metadata": {},
   "outputs": [
    {
     "data": {
      "text/plain": [
       "['ECCOII_HistoryandGeography',\n",
       " 'ECCOII_SciTechMed.xlsx',\n",
       " 'ECCOII_ReligionandPhilosophy.xlsx',\n",
       " 'ECCOII_LiteratureandLanguage.xlsx',\n",
       " 'ECCOII_GeneralReference',\n",
       " 'ECCOII_HistoryandGeography.xlsx',\n",
       " 'ECCOII_SSAndFineArts',\n",
       " 'ECCOII_ReligionandPhilosophy',\n",
       " 'ECCOII_SSAndFineArts.xlsx',\n",
       " 'ECCOII_LiteratureandLanguage',\n",
       " 'ECCOII_Law',\n",
       " 'ECCOII_Law.xlsx',\n",
       " 'ECCOII_GeneralReference.xlsx',\n",
       " 'ECCOII_SciTechMed']"
      ]
     },
     "execution_count": 4,
     "metadata": {},
     "output_type": "execute_result"
    }
   ],
   "source": [
    "files_root_eccoII = os.listdir(path_root_eccoII)\n",
    "files_root_eccoII"
   ]
  },
  {
   "cell_type": "markdown",
   "id": "79222136-9ae0-4c14-9b6a-25636f5dde70",
   "metadata": {},
   "source": [
    "### Metadata"
   ]
  },
  {
   "cell_type": "code",
   "execution_count": 5,
   "id": "ca4e37e1-1b0a-4afa-a114-355ca75da2c7",
   "metadata": {},
   "outputs": [
    {
     "data": {
      "text/plain": [
       "['/Users/ryanheuser/data/ecco/ECCOII/ECCOII_SciTechMed.xlsx',\n",
       " '/Users/ryanheuser/data/ecco/ECCOII/ECCOII_ReligionandPhilosophy.xlsx',\n",
       " '/Users/ryanheuser/data/ecco/ECCOII/ECCOII_LiteratureandLanguage.xlsx',\n",
       " '/Users/ryanheuser/data/ecco/ECCOII/ECCOII_HistoryandGeography.xlsx',\n",
       " '/Users/ryanheuser/data/ecco/ECCOII/ECCOII_SSAndFineArts.xlsx',\n",
       " '/Users/ryanheuser/data/ecco/ECCOII/ECCOII_Law.xlsx',\n",
       " '/Users/ryanheuser/data/ecco/ECCOII/ECCOII_GeneralReference.xlsx']"
      ]
     },
     "execution_count": 5,
     "metadata": {},
     "output_type": "execute_result"
    }
   ],
   "source": [
    "excel_file_paths = [os.path.join(path_root_eccoII,fn) for fn in files_root_eccoII if fn.endswith('.xlsx')]\n",
    "excel_file_paths"
   ]
  },
  {
   "cell_type": "code",
   "execution_count": 6,
   "id": "0c949c7a-04a1-47fb-8bfa-5527bd90f743",
   "metadata": {},
   "outputs": [
    {
     "data": {
      "text/html": [
       "<div>\n",
       "<style scoped>\n",
       "    .dataframe tbody tr th:only-of-type {\n",
       "        vertical-align: middle;\n",
       "    }\n",
       "\n",
       "    .dataframe tbody tr th {\n",
       "        vertical-align: top;\n",
       "    }\n",
       "\n",
       "    .dataframe thead th {\n",
       "        text-align: right;\n",
       "    }\n",
       "</style>\n",
       "<table border=\"1\" class=\"dataframe\">\n",
       "  <thead>\n",
       "    <tr style=\"text-align: right;\">\n",
       "      <th></th>\n",
       "      <th>AuthorByline</th>\n",
       "      <th>Title</th>\n",
       "      <th>Edition</th>\n",
       "      <th>CurrentVolume</th>\n",
       "      <th>Imprint</th>\n",
       "      <th>Collation</th>\n",
       "      <th>NumberOfPages</th>\n",
       "      <th>ImageLocation</th>\n",
       "      <th>DataLocation</th>\n",
       "      <th>Filename</th>\n",
       "    </tr>\n",
       "  </thead>\n",
       "  <tbody>\n",
       "    <tr>\n",
       "      <th>0</th>\n",
       "      <td>NaN</td>\n",
       "      <td>The complete fortune teller: or, An infallible...</td>\n",
       "      <td>NaN</td>\n",
       "      <td>NaN</td>\n",
       "      <td>New-York : [s.n.] Printed for the booksellers,...</td>\n",
       "      <td>128p. ; 16°</td>\n",
       "      <td>116</td>\n",
       "      <td>\\ECCOII_SciTechMed\\Images\\MONOGRAPHS\\ECCOF0001...</td>\n",
       "      <td>\\ECCOII_SciTechMed\\XML\\ECCOF0001-C00027\\MONOGR...</td>\n",
       "      <td>1304900100_DocMetadata.xml</td>\n",
       "    </tr>\n",
       "    <tr>\n",
       "      <th>1</th>\n",
       "      <td>Gibson, Robert; Crukshank, Joseph; Poupard, James</td>\n",
       "      <td>A treatise of practical surveying; which is de...</td>\n",
       "      <td>The fifth edition.</td>\n",
       "      <td>NaN</td>\n",
       "      <td>Philadelphia : Printed by Joseph Crukshank, in...</td>\n",
       "      <td>viii, 272, [1], 90, [1] p., 12folded leaves of...</td>\n",
       "      <td>414</td>\n",
       "      <td>\\ECCOII_SciTechMed\\Images\\MONOGRAPHS\\ECCOF0001...</td>\n",
       "      <td>\\ECCOII_SciTechMed\\XML\\ECCOF0001-C00027\\MONOGR...</td>\n",
       "      <td>1304900200_DocMetadata.xml</td>\n",
       "    </tr>\n",
       "    <tr>\n",
       "      <th>2</th>\n",
       "      <td>Perrault, Claude</td>\n",
       "      <td>Memoirs for a natural history of animals, cont...</td>\n",
       "      <td>NaN</td>\n",
       "      <td>NaN</td>\n",
       "      <td>London : Printed for John Clarke at the Bible ...</td>\n",
       "      <td>[16],3-267,[13],40p.,plates ; 2°</td>\n",
       "      <td>405</td>\n",
       "      <td>\\ECCOII_SciTechMed\\Images\\MONOGRAPHS\\ECCOF0001...</td>\n",
       "      <td>\\ECCOII_SciTechMed\\XML\\ECCOF0001-C00027\\MONOGR...</td>\n",
       "      <td>1304900300_DocMetadata.xml</td>\n",
       "    </tr>\n",
       "    <tr>\n",
       "      <th>3</th>\n",
       "      <td>Dillenius, Johann Jakob</td>\n",
       "      <td>Historia Muscorum: a general history of land a...</td>\n",
       "      <td>NaN</td>\n",
       "      <td>NaN</td>\n",
       "      <td>London : Printed for J. Millan, opposite the A...</td>\n",
       "      <td>[2],13,[1],10p.,LXXXVplates ; 4°</td>\n",
       "      <td>195</td>\n",
       "      <td>\\ECCOII_SciTechMed\\Images\\MONOGRAPHS\\ECCOF0001...</td>\n",
       "      <td>\\ECCOII_SciTechMed\\XML\\ECCOF0001-C00027\\MONOGR...</td>\n",
       "      <td>1304900400_DocMetadata.xml</td>\n",
       "    </tr>\n",
       "    <tr>\n",
       "      <th>4</th>\n",
       "      <td>Walker, James, M.D.</td>\n",
       "      <td>Disquisitio medica, inauguralis, de glandularu...</td>\n",
       "      <td>NaN</td>\n",
       "      <td>NaN</td>\n",
       "      <td>Edinburgi : Apud J. Cochran &amp; Socios, MDCCXLII...</td>\n",
       "      <td>[4],22p. ; 4°</td>\n",
       "      <td>26</td>\n",
       "      <td>\\ECCOII_SciTechMed\\Images\\MONOGRAPHS\\ECCOF0001...</td>\n",
       "      <td>\\ECCOII_SciTechMed\\XML\\ECCOF0001-C00027\\MONOGR...</td>\n",
       "      <td>1305000100_DocMetadata.xml</td>\n",
       "    </tr>\n",
       "    <tr>\n",
       "      <th>...</th>\n",
       "      <td>...</td>\n",
       "      <td>...</td>\n",
       "      <td>...</td>\n",
       "      <td>...</td>\n",
       "      <td>...</td>\n",
       "      <td>...</td>\n",
       "      <td>...</td>\n",
       "      <td>...</td>\n",
       "      <td>...</td>\n",
       "      <td>...</td>\n",
       "    </tr>\n",
       "    <tr>\n",
       "      <th>3211</th>\n",
       "      <td>Cotes, Roger</td>\n",
       "      <td>Harmonia mensurarum, sive analysis &amp; synthesis...</td>\n",
       "      <td>NaN</td>\n",
       "      <td>NaN</td>\n",
       "      <td>Cantabrigiæ, 1722.</td>\n",
       "      <td>[20],249,[3],125,[1]p.,table : ill. ; 4°</td>\n",
       "      <td>395</td>\n",
       "      <td>\\ECCOII_SciTechMed\\Images\\MONOGRAPHS\\ECCOF0001...</td>\n",
       "      <td>\\ECCOII_SciTechMed\\XML\\ECCOF0001-C00027\\MONOGR...</td>\n",
       "      <td>1741000100_DocMetadata.xml</td>\n",
       "    </tr>\n",
       "    <tr>\n",
       "      <th>3212</th>\n",
       "      <td>Huxham, John</td>\n",
       "      <td>Observationum de aëre et morbis epidemicis vol...</td>\n",
       "      <td>NaN</td>\n",
       "      <td>NaN</td>\n",
       "      <td>Londini : impensis Joannis Hinton; &amp; ex offici...</td>\n",
       "      <td>[2],xix,[1],208p. ; 8°</td>\n",
       "      <td>230</td>\n",
       "      <td>\\ECCOII_SciTechMed\\Images\\MONOGRAPHS\\ECCOF0001...</td>\n",
       "      <td>\\ECCOII_SciTechMed\\XML\\ECCOF0001-C00027\\MONOGR...</td>\n",
       "      <td>1741000200_DocMetadata.xml</td>\n",
       "    </tr>\n",
       "    <tr>\n",
       "      <th>3213</th>\n",
       "      <td>Physician of Bath</td>\n",
       "      <td>A safe conduct through the territories of the ...</td>\n",
       "      <td>NaN</td>\n",
       "      <td>NaN</td>\n",
       "      <td>London : printed, pro bono publico, 1795.</td>\n",
       "      <td>98p. ; 12°</td>\n",
       "      <td>96</td>\n",
       "      <td>\\ECCOII_SciTechMed\\Images\\MONOGRAPHS\\ECCOF0001...</td>\n",
       "      <td>\\ECCOII_SciTechMed\\XML\\ECCOF0001-C00027\\MONOGR...</td>\n",
       "      <td>1741000300_DocMetadata.xml</td>\n",
       "    </tr>\n",
       "    <tr>\n",
       "      <th>3214</th>\n",
       "      <td>Edwards, George</td>\n",
       "      <td>A natural history of uncommon birds, and of so...</td>\n",
       "      <td>NaN</td>\n",
       "      <td>NaN</td>\n",
       "      <td>London : printed for the author, [1751].</td>\n",
       "      <td>[4];xxiv,52;viii,53-128;[4],106-157;[8],158-24...</td>\n",
       "      <td>524</td>\n",
       "      <td>\\ECCOII_SciTechMed\\Images\\MONOGRAPHS\\ECCOF0001...</td>\n",
       "      <td>\\ECCOII_SciTechMed\\XML\\ECCOF0001-C00027\\MONOGR...</td>\n",
       "      <td>1741000400_DocMetadata.xml</td>\n",
       "    </tr>\n",
       "    <tr>\n",
       "      <th>3215</th>\n",
       "      <td>Swift, Jonathan</td>\n",
       "      <td>The right of precedence between physicians and...</td>\n",
       "      <td>The second edition.</td>\n",
       "      <td>NaN</td>\n",
       "      <td>[London] : Printed at Dublin in the year 1720;...</td>\n",
       "      <td>32p. ; 8°</td>\n",
       "      <td>29</td>\n",
       "      <td>\\ECCOII_SciTechMed\\Images\\MONOGRAPHS\\ECCOF0001...</td>\n",
       "      <td>\\ECCOII_SciTechMed\\XML\\ECCOF0001-C00027\\MONOGR...</td>\n",
       "      <td>1782800100_DocMetadata.xml</td>\n",
       "    </tr>\n",
       "  </tbody>\n",
       "</table>\n",
       "<p>3216 rows × 10 columns</p>\n",
       "</div>"
      ],
      "text/plain": [
       "                                           AuthorByline  \\\n",
       "0                                                   NaN   \n",
       "1     Gibson, Robert; Crukshank, Joseph; Poupard, James   \n",
       "2                                      Perrault, Claude   \n",
       "3                               Dillenius, Johann Jakob   \n",
       "4                                   Walker, James, M.D.   \n",
       "...                                                 ...   \n",
       "3211                                       Cotes, Roger   \n",
       "3212                                       Huxham, John   \n",
       "3213                                  Physician of Bath   \n",
       "3214                                    Edwards, George   \n",
       "3215                                    Swift, Jonathan   \n",
       "\n",
       "                                                  Title              Edition  \\\n",
       "0     The complete fortune teller: or, An infallible...                  NaN   \n",
       "1     A treatise of practical surveying; which is de...   The fifth edition.   \n",
       "2     Memoirs for a natural history of animals, cont...                  NaN   \n",
       "3     Historia Muscorum: a general history of land a...                  NaN   \n",
       "4     Disquisitio medica, inauguralis, de glandularu...                  NaN   \n",
       "...                                                 ...                  ...   \n",
       "3211  Harmonia mensurarum, sive analysis & synthesis...                  NaN   \n",
       "3212  Observationum de aëre et morbis epidemicis vol...                  NaN   \n",
       "3213  A safe conduct through the territories of the ...                  NaN   \n",
       "3214  A natural history of uncommon birds, and of so...                  NaN   \n",
       "3215  The right of precedence between physicians and...  The second edition.   \n",
       "\n",
       "     CurrentVolume                                            Imprint  \\\n",
       "0              NaN  New-York : [s.n.] Printed for the booksellers,...   \n",
       "1              NaN  Philadelphia : Printed by Joseph Crukshank, in...   \n",
       "2              NaN  London : Printed for John Clarke at the Bible ...   \n",
       "3              NaN  London : Printed for J. Millan, opposite the A...   \n",
       "4              NaN  Edinburgi : Apud J. Cochran & Socios, MDCCXLII...   \n",
       "...            ...                                                ...   \n",
       "3211           NaN                                 Cantabrigiæ, 1722.   \n",
       "3212           NaN  Londini : impensis Joannis Hinton; & ex offici...   \n",
       "3213           NaN          London : printed, pro bono publico, 1795.   \n",
       "3214           NaN           London : printed for the author, [1751].   \n",
       "3215           NaN  [London] : Printed at Dublin in the year 1720;...   \n",
       "\n",
       "                                              Collation  NumberOfPages  \\\n",
       "0                                           128p. ; 16°            116   \n",
       "1     viii, 272, [1], 90, [1] p., 12folded leaves of...            414   \n",
       "2                      [16],3-267,[13],40p.,plates ; 2°            405   \n",
       "3                      [2],13,[1],10p.,LXXXVplates ; 4°            195   \n",
       "4                                         [4],22p. ; 4°             26   \n",
       "...                                                 ...            ...   \n",
       "3211           [20],249,[3],125,[1]p.,table : ill. ; 4°            395   \n",
       "3212                             [2],xix,[1],208p. ; 8°            230   \n",
       "3213                                         98p. ; 12°             96   \n",
       "3214  [4];xxiv,52;viii,53-128;[4],106-157;[8],158-24...            524   \n",
       "3215                                          32p. ; 8°             29   \n",
       "\n",
       "                                          ImageLocation  \\\n",
       "0     \\ECCOII_SciTechMed\\Images\\MONOGRAPHS\\ECCOF0001...   \n",
       "1     \\ECCOII_SciTechMed\\Images\\MONOGRAPHS\\ECCOF0001...   \n",
       "2     \\ECCOII_SciTechMed\\Images\\MONOGRAPHS\\ECCOF0001...   \n",
       "3     \\ECCOII_SciTechMed\\Images\\MONOGRAPHS\\ECCOF0001...   \n",
       "4     \\ECCOII_SciTechMed\\Images\\MONOGRAPHS\\ECCOF0001...   \n",
       "...                                                 ...   \n",
       "3211  \\ECCOII_SciTechMed\\Images\\MONOGRAPHS\\ECCOF0001...   \n",
       "3212  \\ECCOII_SciTechMed\\Images\\MONOGRAPHS\\ECCOF0001...   \n",
       "3213  \\ECCOII_SciTechMed\\Images\\MONOGRAPHS\\ECCOF0001...   \n",
       "3214  \\ECCOII_SciTechMed\\Images\\MONOGRAPHS\\ECCOF0001...   \n",
       "3215  \\ECCOII_SciTechMed\\Images\\MONOGRAPHS\\ECCOF0001...   \n",
       "\n",
       "                                           DataLocation  \\\n",
       "0     \\ECCOII_SciTechMed\\XML\\ECCOF0001-C00027\\MONOGR...   \n",
       "1     \\ECCOII_SciTechMed\\XML\\ECCOF0001-C00027\\MONOGR...   \n",
       "2     \\ECCOII_SciTechMed\\XML\\ECCOF0001-C00027\\MONOGR...   \n",
       "3     \\ECCOII_SciTechMed\\XML\\ECCOF0001-C00027\\MONOGR...   \n",
       "4     \\ECCOII_SciTechMed\\XML\\ECCOF0001-C00027\\MONOGR...   \n",
       "...                                                 ...   \n",
       "3211  \\ECCOII_SciTechMed\\XML\\ECCOF0001-C00027\\MONOGR...   \n",
       "3212  \\ECCOII_SciTechMed\\XML\\ECCOF0001-C00027\\MONOGR...   \n",
       "3213  \\ECCOII_SciTechMed\\XML\\ECCOF0001-C00027\\MONOGR...   \n",
       "3214  \\ECCOII_SciTechMed\\XML\\ECCOF0001-C00027\\MONOGR...   \n",
       "3215  \\ECCOII_SciTechMed\\XML\\ECCOF0001-C00027\\MONOGR...   \n",
       "\n",
       "                        Filename  \n",
       "0     1304900100_DocMetadata.xml  \n",
       "1     1304900200_DocMetadata.xml  \n",
       "2     1304900300_DocMetadata.xml  \n",
       "3     1304900400_DocMetadata.xml  \n",
       "4     1305000100_DocMetadata.xml  \n",
       "...                          ...  \n",
       "3211  1741000100_DocMetadata.xml  \n",
       "3212  1741000200_DocMetadata.xml  \n",
       "3213  1741000300_DocMetadata.xml  \n",
       "3214  1741000400_DocMetadata.xml  \n",
       "3215  1782800100_DocMetadata.xml  \n",
       "\n",
       "[3216 rows x 10 columns]"
      ]
     },
     "execution_count": 6,
     "metadata": {},
     "output_type": "execute_result"
    }
   ],
   "source": [
    "import pandas as pd\n",
    "df=pd.read_excel(excel_file_paths[0])\n",
    "df"
   ]
  },
  {
   "cell_type": "markdown",
   "id": "5cd1441d-2070-4045-b46c-ea5d2c13da31",
   "metadata": {},
   "source": [
    "### Data"
   ]
  },
  {
   "cell_type": "code",
   "execution_count": 7,
   "id": "b03789e3-2d64-4f5c-94ac-acf463c3f508",
   "metadata": {},
   "outputs": [
    {
     "data": {
      "text/plain": [
       "(105372,\n",
       " '/Users/ryanheuser/data/ecco/ECCOII/ECCOII_HistoryandGeography/XML/ECCOF0001-C00022/MONOGRAPHS/1505401300_PageText.xml')"
      ]
     },
     "execution_count": 7,
     "metadata": {},
     "output_type": "execute_result"
    }
   ],
   "source": [
    "# Get all XML files\n",
    "all_xml_paths = [\n",
    "    os.path.join(root,fn)\n",
    "    for root,dirs,fns in os.walk(path_root_eccoII)\n",
    "    for fn in fns\n",
    "    if fn.endswith('.xml')\n",
    "]\n",
    "len(all_xml_paths), all_xml_paths[0]"
   ]
  },
  {
   "cell_type": "code",
   "execution_count": 8,
   "id": "41732f38-456d-4155-aea3-7f52e638683d",
   "metadata": {},
   "outputs": [
    {
     "data": {
      "text/plain": [
       "52686"
      ]
     },
     "execution_count": 8,
     "metadata": {},
     "output_type": "execute_result"
    }
   ],
   "source": [
    "# Divide this by 2 to get number of texts (approx), since 2 files per text\n",
    "len(all_xml_paths) // 2"
   ]
  },
  {
   "cell_type": "code",
   "execution_count": 9,
   "id": "d19def4a-52dc-4c51-af7b-e162f68038bd",
   "metadata": {},
   "outputs": [],
   "source": [
    "def path2id(path):\n",
    "    return os.path.basename(path).split('_')[0]"
   ]
  },
  {
   "cell_type": "code",
   "execution_count": 10,
   "id": "a618ffe2-de1f-4a93-86d7-616c8bb95734",
   "metadata": {},
   "outputs": [
    {
     "data": {
      "text/plain": [
       "(52686, '1298600200')"
      ]
     },
     "execution_count": 10,
     "metadata": {},
     "output_type": "execute_result"
    }
   ],
   "source": [
    "text_ids = sorted(list({path2id(fn) for fn in all_xml_paths}))\n",
    "len(text_ids), text_ids[0]"
   ]
  },
  {
   "cell_type": "code",
   "execution_count": 11,
   "id": "c54371db-58f0-403a-be24-aedc564b6d04",
   "metadata": {},
   "outputs": [],
   "source": [
    "textid2paths = {k:{} for k in text_ids}\n",
    "for path in all_xml_paths:\n",
    "    assert 'PageText' in path or 'DocMetadata' in path\n",
    "    key='meta' if 'DocMetadata' in path else 'text'\n",
    "    textid2paths[path2id(path)][key]=path"
   ]
  },
  {
   "cell_type": "code",
   "execution_count": 12,
   "id": "199db1d8-4578-49fd-add8-e2fd6f7834f6",
   "metadata": {},
   "outputs": [],
   "source": [
    "eg_id = text_ids[0]\n",
    "eg_paths = textid2paths[eg_id]"
   ]
  },
  {
   "cell_type": "code",
   "execution_count": 13,
   "id": "738fc08a-309a-492d-a959-91a6f92e11cd",
   "metadata": {},
   "outputs": [],
   "source": [
    "import bs4\n",
    "\n",
    "def parse_pages(paths):\n",
    "    path_meta=paths.get('meta')\n",
    "    path_text=paths.get('text')\n",
    "\n",
    "    with open(path_meta) as fmeta, open(path_text) as ftxt:\n",
    "        dom_meta = bs4.BeautifulSoup(fmeta.read())\n",
    "        dom_text = bs4.BeautifulSoup(ftxt.read())\n",
    "\n",
    "    pages_meta = dom_meta('page')\n",
    "    attrs_meta = ['pageid','assetid','ocrlanguage','ocr','imagelink']\n",
    "    ld_meta = [{ak:page.find(ak).text for ak in attrs_meta} for page in pages_meta]\n",
    "\n",
    "    pages_text = dom_text('page')\n",
    "    ld_text = [{'pageid':page.get('id'), 'text':page.find('ocrtext').text} for page in pages_text]\n",
    "\n",
    "    # join both on page id\n",
    "    odf=pd.DataFrame(ld_meta).merge(\n",
    "        pd.DataFrame(ld_text), \n",
    "        on='pageid',\n",
    "        how='outer'\n",
    "    )\n",
    "    # quant cols?\n",
    "    odf['ocr'] = pd.to_numeric(odf['ocr'],errors='coerce')\n",
    "    return {d['pageid']:d for d in odf.to_dict('records')}"
   ]
  },
  {
   "cell_type": "code",
   "execution_count": 14,
   "id": "20e91670-b414-4070-93d0-2da03868b873",
   "metadata": {},
   "outputs": [
    {
     "data": {
      "text/plain": [
       "('00010',\n",
       " {'pageid': '00010',\n",
       "  'assetid': '3326069793',\n",
       "  'ocrlanguage': 'English',\n",
       "  'ocr': 91.11,\n",
       "  'imagelink': '129860020000010.TIF',\n",
       "  'text': '\\n\\t\\t\\tA PLAIN ACCOUNT Of the P E O P L E CALLED METHODISTS. IN A LETTER TO THE Reverend Mr. P E R R O NE 7. VICAR of Shoreham, in K E N T. The SIXTH EDITION. BRISTOL: Printed by WILLIAM PINE, in Wine-Street, 1764. [Price Three-Pence.]\\n\\t\\t'})"
      ]
     },
     "execution_count": 14,
     "metadata": {},
     "output_type": "execute_result"
    }
   ],
   "source": [
    "list(parse_pages(eg_paths).items())[0]"
   ]
  },
  {
   "cell_type": "code",
   "execution_count": 15,
   "id": "c69d0118-af40-4407-a777-0ae327b49f69",
   "metadata": {},
   "outputs": [],
   "source": [
    "from functools import cache\n",
    "from sqlitedict import SqliteDict\n",
    "import orjson,zlib\n",
    "\n",
    "def encode_cache(x): return zlib.compress(orjson.dumps(x))\n",
    "def decode_cache(x): return orjson.loads(zlib.decompress(x))\n",
    "def get_page_cache(fn=path_ecco_pages_cache):\n",
    "    return SqliteDict(fn, autocommit=True, encode=encode_cache, decode=decode_cache)"
   ]
  },
  {
   "cell_type": "code",
   "execution_count": 22,
   "id": "a13f27c6-9e95-45da-a9a1-64e928f53f19",
   "metadata": {},
   "outputs": [],
   "source": [
    "\n",
    "\n",
    "def make_parsed_pages(text_id):\n",
    "    # cache=get_page_cache()\n",
    "    with get_page_cache() as cache:\n",
    "        if not text_id in cache:\n",
    "            paths = textid2paths[text_id]\n",
    "            cache[text_id] = parse_pages(paths)\n",
    "\n",
    "def get_parsed_pages(text_id):\n",
    "    with get_page_cache() as cache:\n",
    "        return cache.get(text_id,{})"
   ]
  },
  {
   "cell_type": "code",
   "execution_count": 17,
   "id": "acd7f5c9-9fc1-4be8-a74c-86c9912732a4",
   "metadata": {},
   "outputs": [
    {
     "data": {
      "text/plain": [
       "'1570300134'"
      ]
     },
     "execution_count": 17,
     "metadata": {},
     "output_type": "execute_result"
    }
   ],
   "source": [
    "import random\n",
    "eg_id=random.choice(text_ids)\n",
    "eg_id"
   ]
  },
  {
   "cell_type": "code",
   "execution_count": 18,
   "id": "effe6640-208b-41d6-a9f5-390ed710c923",
   "metadata": {},
   "outputs": [],
   "source": [
    "# %%timeit\n",
    "# make_parsed_pages(eg_id)"
   ]
  },
  {
   "cell_type": "code",
   "execution_count": 19,
   "id": "1928a3f5-eb4b-42a9-9262-87600efb5702",
   "metadata": {},
   "outputs": [],
   "source": [
    "import multiprocess as mp\n",
    "from multiprocess.pool import ThreadPool, Pool\n",
    "from tqdm import tqdm\n",
    "import random\n",
    "\n",
    "def parse_all_pages(ids=text_ids):\n",
    "    random.shuffle(ids)\n",
    "    pool = Pool(mp.cpu_count() - 1 if mp.cpu_count()>1 else 1)\n",
    "    iterr=tqdm(total=len(ids))\n",
    "    for x in pool.imap(make_parsed_pages, ids):\n",
    "        iterr.update()"
   ]
  },
  {
   "cell_type": "code",
   "execution_count": 21,
   "id": "69c2b974-dca9-4d71-8e6e-c756a09dfa94",
   "metadata": {},
   "outputs": [],
   "source": [
    "# parse_all_pages()"
   ]
  },
  {
   "cell_type": "code",
   "execution_count": 24,
   "id": "8378462f-a774-472f-9ea9-bac02cb4dc25",
   "metadata": {},
   "outputs": [
    {
     "name": "stdout",
     "output_type": "stream",
     "text": [
      "3.46 ms ± 403 µs per loop (mean ± std. dev. of 7 runs, 100 loops each)\n"
     ]
    }
   ],
   "source": [
    "%%timeit\n",
    "eg_id=random.choice(text_ids)\n",
    "get_parsed_pages(eg_id)"
   ]
  },
  {
   "cell_type": "code",
   "execution_count": null,
   "id": "7b37ee7b-9ca3-44d3-8335-43508c467005",
   "metadata": {},
   "outputs": [],
   "source": []
  },
  {
   "cell_type": "code",
   "execution_count": null,
   "id": "44c4e55c-b627-4655-9317-ad22304eced1",
   "metadata": {},
   "outputs": [],
   "source": []
  },
  {
   "cell_type": "code",
   "execution_count": 25,
   "id": "6e7028dd-6fd2-4308-838f-2b1275f58d67",
   "metadata": {},
   "outputs": [],
   "source": [
    "def get_parsed_page(text_id, page_id):\n",
    "    try:\n",
    "        with get_page_cache() as cache:\n",
    "            return cache[text_id][page_id]\n",
    "    except KeyError:\n",
    "        return {}"
   ]
  },
  {
   "cell_type": "code",
   "execution_count": 28,
   "id": "3612193f-feab-4348-a560-949c243a826c",
   "metadata": {},
   "outputs": [
    {
     "data": {
      "text/plain": [
       "{'pageid': '00010',\n",
       " 'assetid': '3328704639',\n",
       " 'ocrlanguage': 'English',\n",
       " 'ocr': 90.0,\n",
       " 'imagelink': '157030013400010.TIF',\n",
       " 'text': '\\n\\t\\t\\tTH E: WORKS OF M. DE VO LTAIR E. Vo L. XXXIV. Being Vo L. XXIV. of his PROSE WORKS.\\n\\t\\t'}"
      ]
     },
     "execution_count": 28,
     "metadata": {},
     "output_type": "execute_result"
    }
   ],
   "source": [
    "get_parsed_page(eg_id,'00010')"
   ]
  },
  {
   "cell_type": "code",
   "execution_count": null,
   "id": "f0f390be-cc56-4253-8068-880b11285f42",
   "metadata": {},
   "outputs": [],
   "source": []
  }
 ],
 "metadata": {
  "kernelspec": {
   "display_name": "Python 3 (ipykernel)",
   "language": "python",
   "name": "python3"
  },
  "language_info": {
   "codemirror_mode": {
    "name": "ipython",
    "version": 3
   },
   "file_extension": ".py",
   "mimetype": "text/x-python",
   "name": "python",
   "nbconvert_exporter": "python",
   "pygments_lexer": "ipython3",
   "version": "3.9.13"
  }
 },
 "nbformat": 4,
 "nbformat_minor": 5
}
